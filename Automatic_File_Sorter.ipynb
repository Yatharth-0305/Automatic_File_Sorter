{
  "nbformat": 4,
  "nbformat_minor": 0,
  "metadata": {
    "colab": {
      "provenance": []
    },
    "kernelspec": {
      "name": "python3",
      "display_name": "Python 3"
    },
    "language_info": {
      "name": "python"
    }
  },
  "cells": [
    {
      "cell_type": "markdown",
      "source": [
        "**Automatic File Sorter in File Explorer**"
      ],
      "metadata": {
        "id": "XR1Q88zpTIlU"
      }
    },
    {
      "cell_type": "code",
      "execution_count": 1,
      "metadata": {
        "id": "vy3MMOTvS9A1"
      },
      "outputs": [],
      "source": [
        "import os, shutil"
      ]
    },
    {
      "cell_type": "code",
      "source": [
        "path= r\"/content/Yatharth_File/\""
      ],
      "metadata": {
        "id": "8cxrRWOjTmbe"
      },
      "execution_count": 12,
      "outputs": []
    },
    {
      "cell_type": "code",
      "source": [
        "file_name = os.listdir(path)"
      ],
      "metadata": {
        "id": "yYXo1JqCTsht"
      },
      "execution_count": 17,
      "outputs": []
    },
    {
      "cell_type": "markdown",
      "source": [
        "***Shutil helps in automating the process of copying and removal of files and directories.***\n"
      ],
      "metadata": {
        "id": "CE7Dqh3DZoqy"
      }
    },
    {
      "cell_type": "code",
      "source": [
        "folder_names=['csv Files','image Files','text Files','word Files']\n",
        "\n",
        "for loop in range(0,4):\n",
        "  if not os.path.exists(path+folder_names[loop]):\n",
        "      os.makedirs((path+folder_names[loop]))\n",
        "\n",
        "for file in file_name:\n",
        "  if \".csv\" in file and not os.path.exists(path+ \"csv Files/\"+ file):\n",
        "    shutil.move(path+ file,path+ \"csv Files/\"+ file)\n",
        "  elif \".jpg\" in file and not os.path.exists(path+ \"image Files/\"+ file):\n",
        "    shutil.move(path+ file,path+ \"image Files/\"+ file)\n",
        "  elif \".txt\" in file and not os.path.exists(path+ \"text Files/\"+ file):\n",
        "    shutil.move(path+ file,path+ \"text Files/\"+ file)\n",
        "  elif \".docx\" in file and not os.path.exists(path+ \"word Files/\"+ file):\n",
        "    shutil.move(path+ file,path+ \"word Files/\"+ file)"
      ],
      "metadata": {
        "id": "_40c-PAfUdjz"
      },
      "execution_count": 24,
      "outputs": []
    },
    {
      "cell_type": "code",
      "source": [
        ""
      ],
      "metadata": {
        "id": "o__5NEKtUqtW"
      },
      "execution_count": 23,
      "outputs": []
    },
    {
      "cell_type": "code",
      "source": [],
      "metadata": {
        "id": "wF679_3UUqwE"
      },
      "execution_count": null,
      "outputs": []
    },
    {
      "cell_type": "code",
      "source": [],
      "metadata": {
        "id": "JG2NfqzcUqyJ"
      },
      "execution_count": null,
      "outputs": []
    },
    {
      "cell_type": "code",
      "source": [],
      "metadata": {
        "id": "HbqswFz3Uq0g"
      },
      "execution_count": null,
      "outputs": []
    },
    {
      "cell_type": "code",
      "source": [],
      "metadata": {
        "id": "o2rJiL4KUq3B"
      },
      "execution_count": null,
      "outputs": []
    },
    {
      "cell_type": "code",
      "source": [],
      "metadata": {
        "id": "iQwKDqFbUq5a"
      },
      "execution_count": null,
      "outputs": []
    },
    {
      "cell_type": "code",
      "source": [],
      "metadata": {
        "id": "dUGMxCOHUq8w"
      },
      "execution_count": null,
      "outputs": []
    },
    {
      "cell_type": "code",
      "source": [],
      "metadata": {
        "id": "wDWmvjIJUrEk"
      },
      "execution_count": null,
      "outputs": []
    },
    {
      "cell_type": "code",
      "source": [],
      "metadata": {
        "id": "U3RHk8Q7UrG6"
      },
      "execution_count": null,
      "outputs": []
    },
    {
      "cell_type": "code",
      "source": [],
      "metadata": {
        "id": "v5B-J-L6UrJV"
      },
      "execution_count": null,
      "outputs": []
    },
    {
      "cell_type": "code",
      "source": [],
      "metadata": {
        "id": "DJ8KzKa3UrLu"
      },
      "execution_count": null,
      "outputs": []
    },
    {
      "cell_type": "code",
      "source": [],
      "metadata": {
        "id": "n9-gDG0nUrOO"
      },
      "execution_count": null,
      "outputs": []
    },
    {
      "cell_type": "code",
      "source": [],
      "metadata": {
        "id": "Q7xGGCG2UrQD"
      },
      "execution_count": null,
      "outputs": []
    },
    {
      "cell_type": "code",
      "source": [],
      "metadata": {
        "id": "zbx0YPOMUrTd"
      },
      "execution_count": null,
      "outputs": []
    }
  ]
}